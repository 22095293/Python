{
 "cells": [
  {
   "cell_type": "code",
   "execution_count": 2,
   "id": "fe5677ed",
   "metadata": {},
   "outputs": [],
   "source": [
    "import cv2\n"
   ]
  },
  {
   "cell_type": "code",
   "execution_count": 5,
   "id": "475731c6",
   "metadata": {},
   "outputs": [],
   "source": [
    "cv2.namedWindow(\"Frame\", cv2.WINDOW_FULLSCREEN)\n",
    "cv2.destroyWindow(\"Frame\")\n",
    "\n",
    "img = cv2.imread('download.jpg', cv2.IMREAD_GRAYSCALE)\n",
    "\n",
    "cv2.imshow('Frame', img)"
   ]
  },
  {
   "cell_type": "code",
   "execution_count": null,
   "id": "b2ad7f20",
   "metadata": {},
   "outputs": [],
   "source": []
  },
  {
   "cell_type": "code",
   "execution_count": 1,
   "id": "92a5908c",
   "metadata": {},
   "outputs": [],
   "source": [
    "import cv2\n",
    "\n",
    "img = cv2.imread(\"road.jpg\")\n",
    "gray = cv2.cvtColor(img, cv2.COLOR_BGR2GRAY)\n",
    "blur = cv2.GaussianBlur(gray, (3,3), 0)\n",
    "cv2.imshow('Normal', img)"
   ]
  }
 ],
 "metadata": {
  "kernelspec": {
   "display_name": "Python 3",
   "language": "python",
   "name": "python3"
  },
  "language_info": {
   "codemirror_mode": {
    "name": "ipython",
    "version": 3
   },
   "file_extension": ".py",
   "mimetype": "text/x-python",
   "name": "python",
   "nbconvert_exporter": "python",
   "pygments_lexer": "ipython3",
   "version": "3.8.8"
  }
 },
 "nbformat": 4,
 "nbformat_minor": 5
}
