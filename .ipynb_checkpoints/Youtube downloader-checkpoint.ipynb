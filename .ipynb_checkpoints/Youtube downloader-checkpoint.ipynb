{
 "cells": [
  {
   "cell_type": "code",
   "execution_count": 2,
   "id": "1e672fad",
   "metadata": {},
   "outputs": [],
   "source": [
    "import tkinter as tk"
   ]
  },
  {
   "cell_type": "code",
   "execution_count": 18,
   "id": "952b829b",
   "metadata": {},
   "outputs": [],
   "source": [
    "window = tk.Tk()\n",
    "window.geometry('640x480')\n",
    "window.title('Youtube 急速下載器')\n",
    "\n",
    "input_fm = tk.Frame(window, bg='red', width=640, height=120)\n",
    "\n",
    "input_fm.pack()\n",
    "\n",
    "lb = tk.Label(input_fm, bg='red' , fg='white', text='請輸入Youtube網址', font=('新細體', 30))\n",
    "lb.place(rely=0.25, relx=0.5, anchor='center')\n",
    "\n",
    "yt_url = tk.StringVar()\n",
    "entry = tk.Entry(input_fm, textvariable=yt_url, width=50)\n",
    "entry.place(rely=0.5, relx=0.5, anchor='center')\n",
    "\n",
    "def click_func():\n",
    "    return 0\n",
    "\n",
    "btn = tk.Button(input_fm, text=\"下載影片\", command=click_func, bg=\"#FFD700\", fg=\"black\", font=(\"細明體\", 10))\n",
    "btn.place(rely=0.5, relx=0.85, anchor='center')\n",
    "\n",
    "dload_fm = tk.Frame(window, width=640, height=480-120)\n",
    "dload_fm.pack()\n",
    "\n",
    "lb = tk.Label(dload_fm, text='下載狀態', fg='black', font=('新細體', 10))\n",
    "lb.place(rely=0.1, relx=0.5, anchor='center')\n",
    "\n",
    "list_box = tk.Listbox(dload_fm, width=65, height=15)\n",
    "list_box.place(rely=0.5, relx=0.5, anchor='center')\n",
    "\n",
    "sbar = tk.Scrollbar(dload_fm)\n",
    "sbar.place(rely=0.5, relx=0.87, anchor=\"center\", relheight=0.7)\n",
    "\n",
    "list_box.config(yscrollcommand = sbar.set)\n",
    "sbar.config(command=list_box.yview)\n",
    "window.mainloop()"
   ]
  },
  {
   "cell_type": "code",
   "execution_count": null,
   "id": "711f16f1",
   "metadata": {},
   "outputs": [],
   "source": []
  }
 ],
 "metadata": {
  "kernelspec": {
   "display_name": "Python 3",
   "language": "python",
   "name": "python3"
  },
  "language_info": {
   "codemirror_mode": {
    "name": "ipython",
    "version": 3
   },
   "file_extension": ".py",
   "mimetype": "text/x-python",
   "name": "python",
   "nbconvert_exporter": "python",
   "pygments_lexer": "ipython3",
   "version": "3.8.8"
  }
 },
 "nbformat": 4,
 "nbformat_minor": 5
}
